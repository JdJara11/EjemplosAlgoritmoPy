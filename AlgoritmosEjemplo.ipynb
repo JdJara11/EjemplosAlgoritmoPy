{
  "nbformat": 4,
  "nbformat_minor": 0,
  "metadata": {
    "colab": {
      "provenance": [],
      "authorship_tag": "ABX9TyPvtbWyZw46xwJvAyqEjkIt"
    },
    "kernelspec": {
      "name": "python3",
      "display_name": "Python 3"
    },
    "language_info": {
      "name": "python"
    }
  },
  "cells": [
    {
      "cell_type": "markdown",
      "source": [
        "# Algoritmos"
      ],
      "metadata": {
        "id": "VVFwO4DNrCuQ"
      }
    },
    {
      "cell_type": "markdown",
      "source": [
        "#Algoritmo para calcular la moda, la media y la mediana"
      ],
      "metadata": {
        "id": "KH2f89Zi7Yox"
      }
    },
    {
      "cell_type": "markdown",
      "source": [
        "##Para Recordar\n",
        "<ul>\n",
        "  <li>Media: es el promedio de los número o datos a utilizar</li>\n",
        "  <li>Mediana: es el número que esta en el centro de los datos ordenados(Total impar), si el total de los datos es par es el promedio de los dos valores centrales</li>\n",
        "  <li>Moda: es el dato que más veces se repite</li>\n",
        "</ul>"
      ],
      "metadata": {
        "id": "FTSn0igBvoDv"
      }
    },
    {
      "cell_type": "markdown",
      "source": [
        "##Usando una librería"
      ],
      "metadata": {
        "id": "cjNxWH66xVGF"
      }
    },
    {
      "cell_type": "code",
      "source": [
        "from statistics import mean, median, mode\n",
        "\n",
        "datos = [4, 1, 2, 2, 3, 5, 4, 2]\n",
        "\n",
        "media = mean(datos)\n",
        "\n",
        "mediana = median(datos)\n",
        "\n",
        "moda = mode(datos)\n",
        "\n",
        "print(f\"Media: {media}\")\n",
        "print(f\"Mediana: {mediana}\")\n",
        "print(f\"Moda: {moda}\")"
      ],
      "metadata": {
        "colab": {
          "base_uri": "https://localhost:8080/"
        },
        "id": "hO3g_i1cvZgg",
        "outputId": "70ba3694-6063-4abb-b075-1aec138e4a27"
      },
      "execution_count": null,
      "outputs": [
        {
          "output_type": "stream",
          "name": "stdout",
          "text": [
            "Media: 2.875\n",
            "Mediana: 2.5\n",
            "Moda: 2\n"
          ]
        }
      ]
    },
    {
      "cell_type": "markdown",
      "source": [
        "##Manera manual de hacer los calculos"
      ],
      "metadata": {
        "id": "6keEP9S1xMEp"
      }
    },
    {
      "cell_type": "code",
      "source": [
        "#La media es el promedio de los números o datos\n",
        "\n",
        "datos = [4, 1, 2, 2, 3, 5, 4, 2]\n",
        "\n",
        "media = sum(datos) / len(datos)\n",
        "\n",
        "print(f\"La Media de los datos es: {media}\")\n",
        "\n",
        "#La mediana es el número que esta en el centro cuando los datos estan ordenados\n",
        "#Si es par el número es el promedio de los 2 valores centrales\n",
        "\n",
        "datos_ordenados = sorted(datos)\n",
        "\n",
        "n = len(datos_ordenados)\n",
        "\n",
        "if n % 2 == 1:\n",
        "    mediana = datos_ordenados[n // 2]\n",
        "else:\n",
        "    mediana = (datos_ordenados[n // 2 - 1] + datos_ordenados[n // 2]) / 2\n",
        "\n",
        "print(f\"La Mediana de los datos es: {mediana}\")\n",
        "\n",
        "#La moda es el número que más veces se repite\n",
        "\n",
        "frecuencia = {}\n",
        "\n",
        "for num in datos:\n",
        "    if num in frecuencia:\n",
        "        frecuencia[num] += 1\n",
        "    else:\n",
        "        frecuencia[num] = 1\n",
        "\n",
        "moda = max(frecuencia, key=frecuencia.get)\n",
        "\n",
        "print(f\"La Moda de los datos es: {moda}\")"
      ],
      "metadata": {
        "colab": {
          "base_uri": "https://localhost:8080/"
        },
        "id": "Kdv5G2irrWie",
        "outputId": "b2417b24-c4e0-47bc-bc9c-aefb4420a7b9"
      },
      "execution_count": null,
      "outputs": [
        {
          "output_type": "stream",
          "name": "stdout",
          "text": [
            "La Media de los datos es: 2.875\n",
            "La Mediana de los datos es: 2.5\n",
            "La Moda de los datos es: 2\n"
          ]
        }
      ]
    },
    {
      "cell_type": "markdown",
      "source": [
        "#Generación de un hash simple(Sha256 o MD5)"
      ],
      "metadata": {
        "id": "me9IoZNyw5SR"
      }
    },
    {
      "cell_type": "code",
      "source": [
        "import hashlib\n",
        "\n",
        "def generar_hash(cadena):\n",
        "    hash_obj = hashlib.sha256(cadena.encode())\n",
        "    hash_hex = hash_obj.hexdigest()\n",
        "    return hash_hex\n",
        "\n",
        "texto = \"Hola mundo\"\n",
        "print(\"Hash SHA-256:\", generar_hash(texto))\n"
      ],
      "metadata": {
        "id": "myhjsqLAnAeY",
        "colab": {
          "base_uri": "https://localhost:8080/"
        },
        "outputId": "7d60c298-2190-4ee3-c555-7ca02cbf3f1e"
      },
      "execution_count": null,
      "outputs": [
        {
          "output_type": "stream",
          "name": "stdout",
          "text": [
            "Hash SHA-256: ca8f60b2cc7f05837d98b208b57fb6481553fc5f1219d59618fd025002a66f5c\n"
          ]
        }
      ]
    },
    {
      "cell_type": "markdown",
      "source": [
        "#Conteo de vocales en un String"
      ],
      "metadata": {
        "id": "ZaD-jC0qxIR4"
      }
    },
    {
      "cell_type": "markdown",
      "source": [
        "##Sin input"
      ],
      "metadata": {
        "id": "sueVST4Lx0u3"
      }
    },
    {
      "cell_type": "code",
      "source": [
        "def contar_vocales(cadena):\n",
        "    vocales = 'aeiouAEIOU'\n",
        "    contador = 0\n",
        "    for letra in cadena:\n",
        "        if letra in vocales:\n",
        "            contador += 1\n",
        "    return contador\n",
        "\n",
        "texto = \"Hola mundo\"\n",
        "print(\"Cantidad de vocales:\", contar_vocales(texto))"
      ],
      "metadata": {
        "colab": {
          "base_uri": "https://localhost:8080/"
        },
        "id": "s94Y54C9xFLI",
        "outputId": "237fc22b-8b3e-43be-ece6-d13ccd4d74ae"
      },
      "execution_count": null,
      "outputs": [
        {
          "output_type": "stream",
          "name": "stdout",
          "text": [
            "Cantidad de vocales: 4\n"
          ]
        }
      ]
    },
    {
      "cell_type": "markdown",
      "source": [
        "##Con input"
      ],
      "metadata": {
        "id": "z4wT9LThx3JR"
      }
    },
    {
      "cell_type": "code",
      "source": [
        "def contar_vocales(cadena):\n",
        "    vocales = 'aeiouAEIOU'\n",
        "    contador = 0\n",
        "    for letra in cadena:\n",
        "        if letra in vocales:\n",
        "            contador += 1\n",
        "    return contador\n",
        "\n",
        "entrada_usuario = input(\"Ingresa una palabra o frase: \")\n",
        "cantidad_vocales = contar_vocales(entrada_usuario)\n",
        "\n",
        "print(f\"La cantidad de vocales en tu texto es: {cantidad_vocales}\")"
      ],
      "metadata": {
        "colab": {
          "base_uri": "https://localhost:8080/"
        },
        "id": "gQ8x4-ouxzAo",
        "outputId": "e6c36f73-dd36-4847-8da5-c195b3861c98"
      },
      "execution_count": null,
      "outputs": [
        {
          "output_type": "stream",
          "name": "stdout",
          "text": [
            "Ingresa una palabra o frase: murcielago\n",
            "La cantidad de vocales en tu texto es: 5\n"
          ]
        }
      ]
    }
  ]
}